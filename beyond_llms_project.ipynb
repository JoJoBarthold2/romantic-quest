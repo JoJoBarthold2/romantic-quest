{
 "cells": [
  {
   "cell_type": "code",
   "execution_count": null,
   "id": "7a7a7262",
   "metadata": {},
   "outputs": [],
   "source": []
  },
  {
   "cell_type": "markdown",
   "id": "e3886c80",
   "metadata": {},
   "source": [
    "The goal of  our project was if we were able to build an agentic system that could produce books, upload them some marketplace ( for us this was Amazon) and if we could somewhat automate the process of writing book. I personally have private interest in literature so I really wonder if this is sensible and if it truly makes sense to automate this process. "
   ]
  }
 ],
 "metadata": {
  "language_info": {
   "name": "python"
  }
 },
 "nbformat": 4,
 "nbformat_minor": 5
}
